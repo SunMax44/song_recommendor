{
 "cells": [
  {
   "cell_type": "code",
   "execution_count": 102,
   "id": "6774e115-4c4a-4de7-90f2-3aa26a9556ba",
   "metadata": {},
   "outputs": [],
   "source": [
    "#imports of libraries of both webscraping billboards hot100 and spotify api\n",
    "import spotipy\n",
    "from spotipy.oauth2 import SpotifyClientCredentials\n",
    "from bs4 import BeautifulSoup\n",
    "import pandas as pd\n",
    "import requests"
   ]
  },
  {
   "cell_type": "code",
   "execution_count": 104,
   "id": "b0d48b02-eb01-4215-8407-de80f80144a4",
   "metadata": {},
   "outputs": [],
   "source": [
    "# billboard hot 100\n",
    "url = 'https://www.billboard.com/charts/hot-100/'\n",
    "response = requests.get(url)\n",
    "soup = BeautifulSoup(response.content)"
   ]
  },
  {
   "cell_type": "code",
   "execution_count": 106,
   "id": "d3999f07-eb41-4c93-9d90-f3db204ab6ee",
   "metadata": {},
   "outputs": [],
   "source": [
    "#soup.select(\"h3.a-no-trucate\")[0].get_text(strip=True) get first title\n",
    "#soup.select(\"span.c-label.a-no-trucate\")[0].get_text(strip=True) get first author\n",
    "\n",
    "#hot100_dict = {\"title\": [], \"author\": []}\n",
    "title_list = []\n",
    "artist_list = []\n",
    "for i in range(99):\n",
    "    title_list.append(soup.select(\"h3.a-no-trucate\")[i].get_text(strip=True))\n",
    "    artist_list.append(soup.select(\"span.c-label.a-no-trucate\")[i].get_text(strip=True))\n",
    "\n",
    "#title_list, author_list check to works: works"
   ]
  },
  {
   "cell_type": "code",
   "execution_count": 107,
   "id": "691a43b5-046f-43fc-979e-f9cab105552d",
   "metadata": {
    "scrolled": true
   },
   "outputs": [
    {
     "data": {
      "text/html": [
       "<div>\n",
       "<style scoped>\n",
       "    .dataframe tbody tr th:only-of-type {\n",
       "        vertical-align: middle;\n",
       "    }\n",
       "\n",
       "    .dataframe tbody tr th {\n",
       "        vertical-align: top;\n",
       "    }\n",
       "\n",
       "    .dataframe thead th {\n",
       "        text-align: right;\n",
       "    }\n",
       "</style>\n",
       "<table border=\"1\" class=\"dataframe\">\n",
       "  <thead>\n",
       "    <tr style=\"text-align: right;\">\n",
       "      <th></th>\n",
       "      <th>title</th>\n",
       "      <th>artist</th>\n",
       "    </tr>\n",
       "  </thead>\n",
       "  <tbody>\n",
       "    <tr>\n",
       "      <th>0</th>\n",
       "      <td>A Bar Song (Tipsy)</td>\n",
       "      <td>Shaboozey</td>\n",
       "    </tr>\n",
       "    <tr>\n",
       "      <th>1</th>\n",
       "      <td>Die With A Smile</td>\n",
       "      <td>Lady Gaga &amp; Bruno Mars</td>\n",
       "    </tr>\n",
       "    <tr>\n",
       "      <th>2</th>\n",
       "      <td>Birds Of A Feather</td>\n",
       "      <td>Billie Eilish</td>\n",
       "    </tr>\n",
       "    <tr>\n",
       "      <th>3</th>\n",
       "      <td>Espresso</td>\n",
       "      <td>Sabrina Carpenter</td>\n",
       "    </tr>\n",
       "    <tr>\n",
       "      <th>4</th>\n",
       "      <td>Lose Control</td>\n",
       "      <td>Teddy Swims</td>\n",
       "    </tr>\n",
       "    <tr>\n",
       "      <th>...</th>\n",
       "      <td>...</td>\n",
       "      <td>...</td>\n",
       "    </tr>\n",
       "    <tr>\n",
       "      <th>94</th>\n",
       "      <td>2AM</td>\n",
       "      <td>BigXthaPlug</td>\n",
       "    </tr>\n",
       "    <tr>\n",
       "      <th>95</th>\n",
       "      <td>Hollon</td>\n",
       "      <td>GloRilla</td>\n",
       "    </tr>\n",
       "    <tr>\n",
       "      <th>96</th>\n",
       "      <td>Lonely Road</td>\n",
       "      <td>mgk &amp; Jelly Roll</td>\n",
       "    </tr>\n",
       "    <tr>\n",
       "      <th>97</th>\n",
       "      <td>Change Me</td>\n",
       "      <td>BigXthaPlug</td>\n",
       "    </tr>\n",
       "    <tr>\n",
       "      <th>98</th>\n",
       "      <td>Him All Along</td>\n",
       "      <td>Gunna</td>\n",
       "    </tr>\n",
       "  </tbody>\n",
       "</table>\n",
       "<p>99 rows × 2 columns</p>\n",
       "</div>"
      ],
      "text/plain": [
       "                 title                  artist\n",
       "0   A Bar Song (Tipsy)               Shaboozey\n",
       "1     Die With A Smile  Lady Gaga & Bruno Mars\n",
       "2   Birds Of A Feather           Billie Eilish\n",
       "3             Espresso       Sabrina Carpenter\n",
       "4         Lose Control             Teddy Swims\n",
       "..                 ...                     ...\n",
       "94                 2AM             BigXthaPlug\n",
       "95              Hollon                GloRilla\n",
       "96         Lonely Road        mgk & Jelly Roll\n",
       "97           Change Me             BigXthaPlug\n",
       "98       Him All Along                   Gunna\n",
       "\n",
       "[99 rows x 2 columns]"
      ]
     },
     "execution_count": 107,
     "metadata": {},
     "output_type": "execute_result"
    }
   ],
   "source": [
    "bb_df = pd.DataFrame({'title': title_list, 'artist': author_list})\n",
    "bb_df"
   ]
  },
  {
   "cell_type": "code",
   "execution_count": 110,
   "id": "2f61a491-ead7-47f6-801f-d7ddfa86bf55",
   "metadata": {},
   "outputs": [
    {
     "name": "stdin",
     "output_type": "stream",
     "text": [
      "Please enter your favourite song and artist like this example: \"mensch\",\"herbert groenemeyer\" zeit dass sich was dreht\n"
     ]
    },
    {
     "data": {
      "text/plain": [
       "['zeit dass sich was dreht']"
      ]
     },
     "execution_count": 110,
     "metadata": {},
     "output_type": "execute_result"
    }
   ],
   "source": [
    "song_entered = input('Please enter your favourite song and artist like this example: \"mensch\",\"herbert groenemeyer\"')\n",
    "# Correct usage with split and strip\n",
    "song_artist_input = [item.strip().strip('\"').lower() for item in song_entered.split(',')]\n",
    "song_artist_input"
   ]
  },
  {
   "cell_type": "code",
   "execution_count": 116,
   "id": "4daa9b06-4eb2-423d-863d-ed3a17475c12",
   "metadata": {},
   "outputs": [
    {
     "name": "stdin",
     "output_type": "stream",
     "text": [
      "Please enter your favourite song and artist like this example: \"mensch\",\"herbert groenemeyer\" A bar song,shabozey\n",
      "Match found: A Bar Song (Tipsy) by Shaboozey. Did you mean this song? Type \"yes\" or \"no\". y\n",
      "Match found: A Bar Song (Tipsy) by Hozier. Did you mean this song? Type \"yes\" or \"no\". yes\n"
     ]
    },
    {
     "name": "stdout",
     "output_type": "stream",
     "text": [
      "Your randomly selected song: Hey Jane by Tyler, The Creator\n"
     ]
    }
   ],
   "source": [
    "from difflib import SequenceMatcher\n",
    "import numpy as np\n",
    "threshold_song = 0.7\n",
    "threshold_artist = 0.5\n",
    "\n",
    "song_entered = input('Please enter your favourite song and artist like this example: \"mensch\",\"herbert groenemeyer\"')\n",
    "# Correct usage with split and strip\n",
    "song_artist_input = [item.strip().strip('\"').lower() for item in song_entered.split(',')]\n",
    "\n",
    "match_found = False\n",
    "for title in bb_df['title']:\n",
    "    similarity = SequenceMatcher(None, song_artist_input[0], title.lower()).ratio()\n",
    "    if similarity >= threshold_song:\n",
    "        for artist in bb_df['artist']:\n",
    "            similarity = SequenceMatcher(None, song_artist_input[1], artist.lower()).ratio()\n",
    "            if similarity >= threshold_author:\n",
    "                if input(f'Match found: {title} by {artist}. Did you mean this song? Type \"yes\" or \"no\".') == \"yes\":\n",
    "                    # Get random row and column indices\n",
    "                    random_row = np.random.randint(0, bb_df.shape[0])\n",
    "                    random_title = bb_df.iloc[random_row, 0]\n",
    "                    random_artist = bb_df.iloc[random_row, 1]\n",
    "                    print(f'Your randomly selected song: {random_title} by {random_artist}')\n",
    "                    match_found = True\n",
    "                    break\n",
    "        if match_found:\n",
    "            break\n",
    "else:\n",
    "    print(\"No match found\")"
   ]
  },
  {
   "cell_type": "code",
   "execution_count": null,
   "id": "aca0dc15-3163-4729-adf4-bbeb4fb0a5f2",
   "metadata": {},
   "outputs": [],
   "source": [
    "# spotify api (tuesday)\n",
    "#Initialize SpotiPy with user credentials\n",
    "#from config import client_id, client_secret: set up config.py! (dafür nochmal in dem api lab oder in der lesson\n",
    "#nachgucken wie da gemacht\n",
    "sp = spotipy.Spotify(auth_manager=SpotifyClientCredentials(client_id=client_id,\n",
    "                                                           client_secret=client_secret))"
   ]
  }
 ],
 "metadata": {
  "kernelspec": {
   "display_name": "Python 3 (ipykernel)",
   "language": "python",
   "name": "python3"
  },
  "language_info": {
   "codemirror_mode": {
    "name": "ipython",
    "version": 3
   },
   "file_extension": ".py",
   "mimetype": "text/x-python",
   "name": "python",
   "nbconvert_exporter": "python",
   "pygments_lexer": "ipython3",
   "version": "3.12.4"
  }
 },
 "nbformat": 4,
 "nbformat_minor": 5
}
